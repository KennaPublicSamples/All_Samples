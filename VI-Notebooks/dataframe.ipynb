{
 "metadata": {
  "language_info": {
   "codemirror_mode": {
    "name": "ipython",
    "version": 3
   },
   "file_extension": ".py",
   "mimetype": "text/x-python",
   "name": "python",
   "nbconvert_exporter": "python",
   "pygments_lexer": "ipython3",
   "version": "3.9.1-final"
  },
  "orig_nbformat": 2,
  "kernelspec": {
   "name": "python3",
   "display_name": "Python 3",
   "language": "python"
  }
 },
 "nbformat": 4,
 "nbformat_minor": 2,
 "cells": [
  {
   "source": [
    "# Create Dataframe With Kenna VI+ API "
   ],
   "cell_type": "markdown",
   "metadata": {}
  },
  {
   "source": [
    "## Import Python Libraries\n"
   ],
   "cell_type": "markdown",
   "metadata": {}
  },
  {
   "cell_type": "code",
   "execution_count": 5,
   "metadata": {},
   "outputs": [],
   "source": [
    "import IPython\n",
    "import os\n",
    "import json\n",
    "import pandas as pd\n",
    "import plotly.express as px\n",
    "import requests"
   ]
  },
  {
   "source": [
    "## Configure API Key"
   ],
   "cell_type": "markdown",
   "metadata": {}
  },
  {
   "cell_type": "code",
   "execution_count": 6,
   "metadata": {},
   "outputs": [],
   "source": [
    "api_key = \"\""
   ]
  },
  {
   "source": [
    "## Get CVES from CVES.txt"
   ],
   "cell_type": "markdown",
   "metadata": {}
  },
  {
   "cell_type": "code",
   "execution_count": 7,
   "metadata": {},
   "outputs": [],
   "source": [
    "%%capture\n",
    "CVES = open('cves.txt', 'r') \n",
    "CVEs = CVES.readlines()\n",
    "CVEs = [s.rstrip() for s in CVEs]\n",
    "print(CVEs)"
   ]
  },
  {
   "source": [
    "## Build Dataframe"
   ],
   "cell_type": "markdown",
   "metadata": {}
  },
  {
   "cell_type": "code",
   "execution_count": 13,
   "metadata": {},
   "outputs": [
    {
     "output_type": "execute_result",
     "data": {
      "text/plain": [
       "            cve_id  cvss_score  risk_meter_score  \\\n",
       "0    CVE-2014-1812         9.0              78.3   \n",
       "1    CVE-2019-0708        10.0             100.0   \n",
       "2    CVE-2017-1177         5.0              41.4   \n",
       "3   CVE-2018-15961        10.0              91.7   \n",
       "4   CVE-2019-19781         7.5             100.0   \n",
       "5    CVE-2019-3398         9.0              47.0   \n",
       "6   CVE-2019-11580         7.5              82.7   \n",
       "7   CVE-2018-13379         5.0              96.6   \n",
       "8    CVE-2020-0688         9.0             100.0   \n",
       "9   CVE-2019-11510         7.5              82.4   \n",
       "10   CVE-2019-0604         7.5              85.9   \n",
       "11  CVE-2020-10189        10.0             100.0   \n",
       "12   CVE-2019-8394         4.0              32.5   \n",
       "13   CVE-2016-0167         7.2              52.6   \n",
       "14   CVE-2020-1472         9.3             100.0   \n",
       "15   CVE-2018-8581         5.8              40.9   \n",
       "\n",
       "                                      cve_description            created_at  \n",
       "0   The Group Policy implementation in Microsoft W...  2014-05-15T03:00:19Z  \n",
       "1   A remote code execution vulnerability exists i...  2019-05-15T08:16:01Z  \n",
       "2   IBM BigFix Compliance 1.7 through 1.9.91 discl...  2019-02-05T20:00:02Z  \n",
       "3   Adobe ColdFusion versions July 12 release (201...  2018-09-12T19:47:53Z  \n",
       "4   An issue was discovered in Citrix Application ...  2019-12-13T07:00:02Z  \n",
       "5   Confluence Server and Data Center had a path t...  2019-04-18T21:00:05Z  \n",
       "6   Atlassian Crowd and Crowd Data Center had the ...  2019-06-03T17:00:01Z  \n",
       "7   An Improper Limitation of a Pathname to a Rest...  2019-06-04T23:00:00Z  \n",
       "8   A remote code execution vulnerability exists i...  2020-01-22T07:03:06Z  \n",
       "9   In Pulse Secure Pulse Connect Secure (PCS) 8.2...  2019-05-08T19:02:44Z  \n",
       "10  A remote code execution vulnerability exists i...  2019-02-13T06:32:31Z  \n",
       "11  Zoho ManageEngine Desktop Central before 10.0....  2020-03-06T18:11:59Z  \n",
       "12  Zoho ManageEngine ServiceDesk Plus (SDP) befor...  2019-02-17T07:00:02Z  \n",
       "13  The kernel-mode driver in Microsoft Windows Vi...  2016-04-13T03:00:16Z  \n",
       "14  An elevation of privilege vulnerability exists...  2020-01-22T07:05:27Z  \n",
       "15  An elevation of privilege vulnerability exists...  2018-11-14T07:00:31Z  "
      ],
      "text/html": "<div>\n<style scoped>\n    .dataframe tbody tr th:only-of-type {\n        vertical-align: middle;\n    }\n\n    .dataframe tbody tr th {\n        vertical-align: top;\n    }\n\n    .dataframe thead th {\n        text-align: right;\n    }\n</style>\n<table border=\"1\" class=\"dataframe\">\n  <thead>\n    <tr style=\"text-align: right;\">\n      <th></th>\n      <th>cve_id</th>\n      <th>cvss_score</th>\n      <th>risk_meter_score</th>\n      <th>cve_description</th>\n      <th>created_at</th>\n    </tr>\n  </thead>\n  <tbody>\n    <tr>\n      <th>0</th>\n      <td>CVE-2014-1812</td>\n      <td>9.0</td>\n      <td>78.3</td>\n      <td>The Group Policy implementation in Microsoft W...</td>\n      <td>2014-05-15T03:00:19Z</td>\n    </tr>\n    <tr>\n      <th>1</th>\n      <td>CVE-2019-0708</td>\n      <td>10.0</td>\n      <td>100.0</td>\n      <td>A remote code execution vulnerability exists i...</td>\n      <td>2019-05-15T08:16:01Z</td>\n    </tr>\n    <tr>\n      <th>2</th>\n      <td>CVE-2017-1177</td>\n      <td>5.0</td>\n      <td>41.4</td>\n      <td>IBM BigFix Compliance 1.7 through 1.9.91 discl...</td>\n      <td>2019-02-05T20:00:02Z</td>\n    </tr>\n    <tr>\n      <th>3</th>\n      <td>CVE-2018-15961</td>\n      <td>10.0</td>\n      <td>91.7</td>\n      <td>Adobe ColdFusion versions July 12 release (201...</td>\n      <td>2018-09-12T19:47:53Z</td>\n    </tr>\n    <tr>\n      <th>4</th>\n      <td>CVE-2019-19781</td>\n      <td>7.5</td>\n      <td>100.0</td>\n      <td>An issue was discovered in Citrix Application ...</td>\n      <td>2019-12-13T07:00:02Z</td>\n    </tr>\n    <tr>\n      <th>5</th>\n      <td>CVE-2019-3398</td>\n      <td>9.0</td>\n      <td>47.0</td>\n      <td>Confluence Server and Data Center had a path t...</td>\n      <td>2019-04-18T21:00:05Z</td>\n    </tr>\n    <tr>\n      <th>6</th>\n      <td>CVE-2019-11580</td>\n      <td>7.5</td>\n      <td>82.7</td>\n      <td>Atlassian Crowd and Crowd Data Center had the ...</td>\n      <td>2019-06-03T17:00:01Z</td>\n    </tr>\n    <tr>\n      <th>7</th>\n      <td>CVE-2018-13379</td>\n      <td>5.0</td>\n      <td>96.6</td>\n      <td>An Improper Limitation of a Pathname to a Rest...</td>\n      <td>2019-06-04T23:00:00Z</td>\n    </tr>\n    <tr>\n      <th>8</th>\n      <td>CVE-2020-0688</td>\n      <td>9.0</td>\n      <td>100.0</td>\n      <td>A remote code execution vulnerability exists i...</td>\n      <td>2020-01-22T07:03:06Z</td>\n    </tr>\n    <tr>\n      <th>9</th>\n      <td>CVE-2019-11510</td>\n      <td>7.5</td>\n      <td>82.4</td>\n      <td>In Pulse Secure Pulse Connect Secure (PCS) 8.2...</td>\n      <td>2019-05-08T19:02:44Z</td>\n    </tr>\n    <tr>\n      <th>10</th>\n      <td>CVE-2019-0604</td>\n      <td>7.5</td>\n      <td>85.9</td>\n      <td>A remote code execution vulnerability exists i...</td>\n      <td>2019-02-13T06:32:31Z</td>\n    </tr>\n    <tr>\n      <th>11</th>\n      <td>CVE-2020-10189</td>\n      <td>10.0</td>\n      <td>100.0</td>\n      <td>Zoho ManageEngine Desktop Central before 10.0....</td>\n      <td>2020-03-06T18:11:59Z</td>\n    </tr>\n    <tr>\n      <th>12</th>\n      <td>CVE-2019-8394</td>\n      <td>4.0</td>\n      <td>32.5</td>\n      <td>Zoho ManageEngine ServiceDesk Plus (SDP) befor...</td>\n      <td>2019-02-17T07:00:02Z</td>\n    </tr>\n    <tr>\n      <th>13</th>\n      <td>CVE-2016-0167</td>\n      <td>7.2</td>\n      <td>52.6</td>\n      <td>The kernel-mode driver in Microsoft Windows Vi...</td>\n      <td>2016-04-13T03:00:16Z</td>\n    </tr>\n    <tr>\n      <th>14</th>\n      <td>CVE-2020-1472</td>\n      <td>9.3</td>\n      <td>100.0</td>\n      <td>An elevation of privilege vulnerability exists...</td>\n      <td>2020-01-22T07:05:27Z</td>\n    </tr>\n    <tr>\n      <th>15</th>\n      <td>CVE-2018-8581</td>\n      <td>5.8</td>\n      <td>40.9</td>\n      <td>An elevation of privilege vulnerability exists...</td>\n      <td>2018-11-14T07:00:31Z</td>\n    </tr>\n  </tbody>\n</table>\n</div>"
     },
     "metadata": {},
     "execution_count": 13
    }
   ],
   "source": [
    "\n",
    "headers = {\n",
    "    'X-Risk-Token': api_key,\n",
    "}\n",
    "\n",
    "cve_data = [] \n",
    "\n",
    "for cve in CVEs:\n",
    "\n",
    "  base_url = 'https://api.kennasecurity.com/vulnerability_definitions/'\n",
    "  url = ''.join([base_url, cve])\n",
    "\n",
    "  def getList(dict): \n",
    "      return dict.keys() \n",
    "\n",
    "  response = requests.get(url, headers=headers)\n",
    "  data = json.loads(response.content)\n",
    "  #print(data)\n",
    "  cve_data.append(data)\n",
    "\n",
    "vi_demo = pd.DataFrame.from_dict(cve_data)\n",
    "vi_demo = vi_demo['vulnerability_definition'].apply(pd.Series)\n",
    "cols = vi_demo.columns.tolist()\n",
    "cols.insert(0, cols.pop(cols.index('cve_id')))\n",
    "vi_demo = vi_demo.reindex(columns= cols)\n",
    "vi_demo = vi_demo[[\"cve_id\", \"cvss_score\",\"risk_meter_score\", \"cve_description\", \"created_at\" ]]\n",
    "vi_demo = vi_demo.iloc[:, : 25]\n",
    "vi_demo = vi_demo.round(1)\n",
    "vi_demo\n"
   ]
  },
  {
   "source": [
    "## Export To CVS File"
   ],
   "cell_type": "markdown",
   "metadata": {}
  },
  {
   "cell_type": "code",
   "execution_count": 14,
   "metadata": {},
   "outputs": [],
   "source": [
    "vi_demo.to_csv(r'vi_demo.csv')"
   ]
  },
  {
   "source": [
    "## Export to Excel File"
   ],
   "cell_type": "markdown",
   "metadata": {}
  },
  {
   "cell_type": "code",
   "execution_count": 17,
   "metadata": {},
   "outputs": [],
   "source": [
    "vi_demo.to_excel(\"vi_demo.xlsx\")  "
   ]
  }
 ]
}